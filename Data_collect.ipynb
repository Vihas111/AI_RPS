{
 "cells": [
  {
   "cell_type": "code",
   "execution_count": 2,
   "id": "22018a54",
   "metadata": {},
   "outputs": [],
   "source": [
    "import os\n",
    "import uuid\n",
    "import cv2\n",
    "import mediapipe as mp\n"
   ]
  },
  {
   "cell_type": "markdown",
   "id": "8c3e9f11",
   "metadata": {},
   "source": [
    "### Set the label you want to collect(make it same as folder name)"
   ]
  },
  {
   "cell_type": "code",
   "execution_count": null,
   "id": "3482ec30",
   "metadata": {},
   "outputs": [],
   "source": [
    "label = \"scissors\"\n"
   ]
  },
  {
   "cell_type": "markdown",
   "id": "eadd33e6",
   "metadata": {},
   "source": [
    "### Path to save file"
   ]
  },
  {
   "cell_type": "code",
   "execution_count": 3,
   "id": "a1bed71e",
   "metadata": {},
   "outputs": [
    {
     "name": "stdout",
     "output_type": "stream",
     "text": [
      "Images will be saved to: c:\\Users\\Vihas\\Documents\\Pytesting\\AI_RPS\\paper\n"
     ]
    }
   ],
   "source": [
    "save_dir = os.path.join(os.getcwd(), label)\n",
    "os.makedirs(save_dir, exist_ok=True)\n",
    "\n",
    "print(f\"Images will be saved to: {save_dir}\")"
   ]
  },
  {
   "cell_type": "code",
   "execution_count": 4,
   "id": "4ba94231",
   "metadata": {},
   "outputs": [
    {
     "name": "stdout",
     "output_type": "stream",
     "text": [
      "Collecting images for: paper\n",
      "Press 'c' to capture, 'q' to quit.\n",
      "Saved: c:\\Users\\Vihas\\Documents\\Pytesting\\AI_RPS\\paper\\paper_73169f58-35d8-4d8c-82d8-cc2570075e89.jpg (Total: 1)\n",
      "Saved: c:\\Users\\Vihas\\Documents\\Pytesting\\AI_RPS\\paper\\paper_09aa46e8-a233-4fc2-90c9-048a503748fb.jpg (Total: 2)\n",
      "Saved: c:\\Users\\Vihas\\Documents\\Pytesting\\AI_RPS\\paper\\paper_5f0f05ab-416a-415f-a6a8-f908b5641f12.jpg (Total: 3)\n",
      "Saved: c:\\Users\\Vihas\\Documents\\Pytesting\\AI_RPS\\paper\\paper_2ae5b293-3f12-410d-af7f-a33975179707.jpg (Total: 4)\n",
      "Saved: c:\\Users\\Vihas\\Documents\\Pytesting\\AI_RPS\\paper\\paper_3dfd2184-707c-466b-9d5c-4de695ede4df.jpg (Total: 5)\n",
      "Saved: c:\\Users\\Vihas\\Documents\\Pytesting\\AI_RPS\\paper\\paper_a8f6e1e0-87da-44fe-9117-cb5455842dba.jpg (Total: 6)\n",
      "Saved: c:\\Users\\Vihas\\Documents\\Pytesting\\AI_RPS\\paper\\paper_8a87061b-33b3-4a43-863e-02bbb55dc198.jpg (Total: 7)\n",
      "Saved: c:\\Users\\Vihas\\Documents\\Pytesting\\AI_RPS\\paper\\paper_4f972e4c-6caf-4cae-b05b-3a2846bfd602.jpg (Total: 8)\n",
      "Saved: c:\\Users\\Vihas\\Documents\\Pytesting\\AI_RPS\\paper\\paper_098fc503-3d07-4777-b289-b4a8ac13ce19.jpg (Total: 9)\n",
      "Saved: c:\\Users\\Vihas\\Documents\\Pytesting\\AI_RPS\\paper\\paper_74eab090-f465-4ba4-9995-b1133dcc3670.jpg (Total: 10)\n",
      "Saved: c:\\Users\\Vihas\\Documents\\Pytesting\\AI_RPS\\paper\\paper_cf1998cf-e03a-41ff-b232-179ff21fb42f.jpg (Total: 11)\n",
      "Saved: c:\\Users\\Vihas\\Documents\\Pytesting\\AI_RPS\\paper\\paper_b99b8d5e-eeb2-4da5-a68f-2e728faa5a78.jpg (Total: 12)\n",
      "Saved: c:\\Users\\Vihas\\Documents\\Pytesting\\AI_RPS\\paper\\paper_a836702a-93da-4d74-a747-0b6ba6f52490.jpg (Total: 13)\n",
      "Saved: c:\\Users\\Vihas\\Documents\\Pytesting\\AI_RPS\\paper\\paper_cc76a758-27de-4b8f-8c7f-07f6cc1be8d4.jpg (Total: 14)\n",
      "Saved: c:\\Users\\Vihas\\Documents\\Pytesting\\AI_RPS\\paper\\paper_056f9ad9-44f4-4d2e-a46a-81d579010d75.jpg (Total: 15)\n",
      "Saved: c:\\Users\\Vihas\\Documents\\Pytesting\\AI_RPS\\paper\\paper_ea39649d-9d6e-438b-aad6-d17b41a2bf6f.jpg (Total: 16)\n",
      "Saved: c:\\Users\\Vihas\\Documents\\Pytesting\\AI_RPS\\paper\\paper_7917973d-0002-4db0-9301-a20052685d0b.jpg (Total: 17)\n",
      "Saved: c:\\Users\\Vihas\\Documents\\Pytesting\\AI_RPS\\paper\\paper_30cb40b7-0cbb-47b4-94be-c3149dd5c066.jpg (Total: 18)\n",
      "Saved: c:\\Users\\Vihas\\Documents\\Pytesting\\AI_RPS\\paper\\paper_33924056-f672-464a-8335-116eaa340aaf.jpg (Total: 19)\n",
      "Saved: c:\\Users\\Vihas\\Documents\\Pytesting\\AI_RPS\\paper\\paper_505e802e-6e09-465f-a4a9-4b50eae27213.jpg (Total: 20)\n",
      "Saved: c:\\Users\\Vihas\\Documents\\Pytesting\\AI_RPS\\paper\\paper_c4adf676-4834-4a16-af09-968f52a9b834.jpg (Total: 21)\n",
      "Saved: c:\\Users\\Vihas\\Documents\\Pytesting\\AI_RPS\\paper\\paper_b1ee56e1-3504-4740-ac57-8d9b8b445ba0.jpg (Total: 22)\n",
      "Saved: c:\\Users\\Vihas\\Documents\\Pytesting\\AI_RPS\\paper\\paper_a3f48d85-a5fe-4c87-a1bf-d6458ef0538d.jpg (Total: 23)\n",
      "Saved: c:\\Users\\Vihas\\Documents\\Pytesting\\AI_RPS\\paper\\paper_5582d864-e5c8-4e4f-a5a2-74bb2088cd24.jpg (Total: 24)\n",
      "Saved: c:\\Users\\Vihas\\Documents\\Pytesting\\AI_RPS\\paper\\paper_ac3e2d45-b992-4070-b52a-24ee481de629.jpg (Total: 25)\n",
      "Saved: c:\\Users\\Vihas\\Documents\\Pytesting\\AI_RPS\\paper\\paper_5d79480f-b004-4586-8f3d-4ff0250ef053.jpg (Total: 26)\n",
      "Saved: c:\\Users\\Vihas\\Documents\\Pytesting\\AI_RPS\\paper\\paper_33ce4c25-3665-41a2-8d33-8f49cd0e0b80.jpg (Total: 27)\n",
      "Saved: c:\\Users\\Vihas\\Documents\\Pytesting\\AI_RPS\\paper\\paper_06dee5a5-a0a1-43d8-a643-3c69ba6e04d0.jpg (Total: 28)\n",
      "Saved: c:\\Users\\Vihas\\Documents\\Pytesting\\AI_RPS\\paper\\paper_853d5b10-29fb-4aea-8636-815eee3554ee.jpg (Total: 29)\n",
      "Saved: c:\\Users\\Vihas\\Documents\\Pytesting\\AI_RPS\\paper\\paper_c4b9c136-b321-46e2-941f-cd9809b6d5e0.jpg (Total: 30)\n",
      "Saved: c:\\Users\\Vihas\\Documents\\Pytesting\\AI_RPS\\paper\\paper_46ca287e-3e53-4b52-8acd-a51165453f79.jpg (Total: 31)\n",
      "Saved: c:\\Users\\Vihas\\Documents\\Pytesting\\AI_RPS\\paper\\paper_6cf2f7a0-5ca9-439f-b9f1-1e98b94dc5f1.jpg (Total: 32)\n",
      "Saved: c:\\Users\\Vihas\\Documents\\Pytesting\\AI_RPS\\paper\\paper_74423f38-af1d-464d-ba9c-bb2cde6e2d34.jpg (Total: 33)\n",
      "Saved: c:\\Users\\Vihas\\Documents\\Pytesting\\AI_RPS\\paper\\paper_baf5a914-a6bb-4669-94e2-1bf562bd7f61.jpg (Total: 34)\n",
      "Saved: c:\\Users\\Vihas\\Documents\\Pytesting\\AI_RPS\\paper\\paper_ce3efa5e-b0b8-4b5e-b2ef-f13f7e98a408.jpg (Total: 35)\n",
      "Saved: c:\\Users\\Vihas\\Documents\\Pytesting\\AI_RPS\\paper\\paper_02ab82da-c4b0-4924-bf68-1f2b3421a84c.jpg (Total: 36)\n",
      "Saved: c:\\Users\\Vihas\\Documents\\Pytesting\\AI_RPS\\paper\\paper_6a6e91b7-2567-4709-9ed4-5a4de5b87a7e.jpg (Total: 37)\n",
      "Saved: c:\\Users\\Vihas\\Documents\\Pytesting\\AI_RPS\\paper\\paper_3ff10c38-54df-43ae-b718-0a8773bae4e2.jpg (Total: 38)\n",
      "Saved: c:\\Users\\Vihas\\Documents\\Pytesting\\AI_RPS\\paper\\paper_6ac8cc7c-f0bd-4088-af73-4ca8ca11086a.jpg (Total: 39)\n",
      "Saved: c:\\Users\\Vihas\\Documents\\Pytesting\\AI_RPS\\paper\\paper_75c4cad2-cb6e-4ad1-9b31-60a995617830.jpg (Total: 40)\n",
      "Saved: c:\\Users\\Vihas\\Documents\\Pytesting\\AI_RPS\\paper\\paper_85ee2bfe-5847-4875-a5e9-7e81a339119f.jpg (Total: 41)\n",
      "Saved: c:\\Users\\Vihas\\Documents\\Pytesting\\AI_RPS\\paper\\paper_d8d53c94-7b86-41d5-af0f-8e6f1caa6946.jpg (Total: 42)\n",
      "Saved: c:\\Users\\Vihas\\Documents\\Pytesting\\AI_RPS\\paper\\paper_f2a5f2bf-0902-4d09-8e85-1e4fec6042b3.jpg (Total: 43)\n",
      "Saved: c:\\Users\\Vihas\\Documents\\Pytesting\\AI_RPS\\paper\\paper_c155d675-53b8-4650-8244-f765dc7aedbe.jpg (Total: 44)\n",
      "Saved: c:\\Users\\Vihas\\Documents\\Pytesting\\AI_RPS\\paper\\paper_c8afb984-6b10-4a1d-8a24-d2ffef2e2af5.jpg (Total: 45)\n",
      "Saved: c:\\Users\\Vihas\\Documents\\Pytesting\\AI_RPS\\paper\\paper_035d0928-893d-408e-bf45-8e93b08a62c9.jpg (Total: 46)\n",
      "Saved: c:\\Users\\Vihas\\Documents\\Pytesting\\AI_RPS\\paper\\paper_8a75592b-e5a7-4fcb-84f7-317be67d0f58.jpg (Total: 47)\n",
      "Saved: c:\\Users\\Vihas\\Documents\\Pytesting\\AI_RPS\\paper\\paper_d64e469c-5729-4cc5-9319-6cd38c786b2a.jpg (Total: 48)\n",
      "Saved: c:\\Users\\Vihas\\Documents\\Pytesting\\AI_RPS\\paper\\paper_79fc05b7-0be1-4db4-8b4b-b8547451cff7.jpg (Total: 49)\n",
      "Saved: c:\\Users\\Vihas\\Documents\\Pytesting\\AI_RPS\\paper\\paper_29adb976-d297-4907-9378-42a9c9aab49c.jpg (Total: 50)\n",
      "Saved: c:\\Users\\Vihas\\Documents\\Pytesting\\AI_RPS\\paper\\paper_6b01b682-aa98-4dff-bd41-bcbebecbf8ff.jpg (Total: 51)\n",
      "Saved: c:\\Users\\Vihas\\Documents\\Pytesting\\AI_RPS\\paper\\paper_efbf6a9e-7514-49a8-8e81-b7ff1fe628f5.jpg (Total: 52)\n",
      "Saved: c:\\Users\\Vihas\\Documents\\Pytesting\\AI_RPS\\paper\\paper_7a8938ea-a328-468b-90f7-c39d1f479b19.jpg (Total: 53)\n",
      "Saved: c:\\Users\\Vihas\\Documents\\Pytesting\\AI_RPS\\paper\\paper_8ee72ed7-3c48-4f72-9fbc-d0534f9cb542.jpg (Total: 54)\n",
      "Saved: c:\\Users\\Vihas\\Documents\\Pytesting\\AI_RPS\\paper\\paper_56dc0089-806c-4e42-b7bb-bb8ee02730eb.jpg (Total: 55)\n",
      "Saved: c:\\Users\\Vihas\\Documents\\Pytesting\\AI_RPS\\paper\\paper_9bca4897-6b51-46c3-9ed8-3ac8c7c5a7c4.jpg (Total: 56)\n",
      "Saved: c:\\Users\\Vihas\\Documents\\Pytesting\\AI_RPS\\paper\\paper_fd25432f-9932-4479-adf7-2dbf9486c467.jpg (Total: 57)\n",
      "Saved: c:\\Users\\Vihas\\Documents\\Pytesting\\AI_RPS\\paper\\paper_64628aeb-0579-40fb-a80c-cde919dc28c7.jpg (Total: 58)\n",
      "Saved: c:\\Users\\Vihas\\Documents\\Pytesting\\AI_RPS\\paper\\paper_63fb8175-17b7-4e48-9a51-c02f51a9f368.jpg (Total: 59)\n",
      "Saved: c:\\Users\\Vihas\\Documents\\Pytesting\\AI_RPS\\paper\\paper_332c5a99-1432-4045-88cc-e09a71968f59.jpg (Total: 60)\n"
     ]
    }
   ],
   "source": [
    "mp_hands = mp.solutions.hands\n",
    "mp_drawing = mp.solutions.drawing_utils\n",
    "hands = mp_hands.Hands(static_image_mode=False, max_num_hands=1)\n",
    "\n",
    "cap = cv2.VideoCapture(0)\n",
    "image_count = 0\n",
    "\n",
    "print(f\"Collecting images for: {label}\")\n",
    "print(\"Press 'c' to capture, 'q' to quit.\")\n",
    "\n",
    "while True:\n",
    "    ret, frame = cap.read()\n",
    "    if not ret:\n",
    "        break\n",
    "\n",
    "    frame = cv2.flip(frame, 1)\n",
    "    rgb = cv2.cvtColor(frame, cv2.COLOR_BGR2RGB)\n",
    "    result = hands.process(rgb)\n",
    "\n",
    "    hand_crop = None\n",
    "    if result.multi_hand_landmarks:\n",
    "        h, w, _ = frame.shape\n",
    "        for hand_landmarks in result.multi_hand_landmarks:\n",
    "            x_coords = [lm.x for lm in hand_landmarks.landmark]\n",
    "            y_coords = [lm.y for lm in hand_landmarks.landmark]\n",
    "            x_min = int(min(x_coords) * w) - 20\n",
    "            x_max = int(max(x_coords) * w) + 20\n",
    "            y_min = int(min(y_coords) * h) - 20\n",
    "            y_max = int(max(y_coords) * h) + 20\n",
    "\n",
    "            x_min = max(x_min, 0)\n",
    "            y_min = max(y_min, 0)\n",
    "            x_max = min(x_max, w)\n",
    "            y_max = min(y_max, h)\n",
    "\n",
    "            cv2.rectangle(frame, (x_min, y_min), (x_max, y_max), (0, 255, 0), 2)\n",
    "            hand_crop = frame[y_min:y_max, x_min:x_max]\n",
    "\n",
    "    cv2.putText(frame, f\"Saved: {image_count}\", (10, 30),\n",
    "                cv2.FONT_HERSHEY_SIMPLEX, 1, (0, 255, 0), 2)\n",
    "\n",
    "    cv2.imshow(\"RPS Hand Capture\", frame)\n",
    "    key = cv2.waitKey(1)\n",
    "\n",
    "    if key == ord('c'):\n",
    "        if label == \"none\":\n",
    "            # Save the full frame for 'none' class\n",
    "            filename = f\"{label}_{uuid.uuid4()}.jpg\"\n",
    "            filepath = os.path.join(save_dir, filename)\n",
    "            cv2.imwrite(filepath, frame)\n",
    "            image_count += 1\n",
    "            print(f\"Saved (NONE): {filepath} (Total: {image_count})\")\n",
    "\n",
    "        elif hand_crop is not None:\n",
    "            # Save the cropped hand for gesture classes\n",
    "            filename = f\"{label}_{uuid.uuid4()}.jpg\"\n",
    "            filepath = os.path.join(save_dir, filename)\n",
    "            cv2.imwrite(filepath, hand_crop)\n",
    "            image_count += 1\n",
    "            print(f\"Saved: {filepath} (Total: {image_count})\")\n",
    "\n",
    "\n",
    "    elif key == ord('q'):\n",
    "        break\n",
    "\n",
    "cap.release()\n",
    "cv2.destroyAllWindows()\n",
    "hands.close()\n"
   ]
  },
  {
   "cell_type": "code",
   "execution_count": null,
   "id": "228eb5cb",
   "metadata": {},
   "outputs": [],
   "source": []
  }
 ],
 "metadata": {
  "kernelspec": {
   "display_name": "cuda",
   "language": "python",
   "name": "python3"
  },
  "language_info": {
   "codemirror_mode": {
    "name": "ipython",
    "version": 3
   },
   "file_extension": ".py",
   "mimetype": "text/x-python",
   "name": "python",
   "nbconvert_exporter": "python",
   "pygments_lexer": "ipython3",
   "version": "3.10.16"
  }
 },
 "nbformat": 4,
 "nbformat_minor": 5
}
