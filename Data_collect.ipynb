{
 "cells": [
  {
   "cell_type": "code",
   "execution_count": 2,
   "id": "22018a54",
   "metadata": {},
   "outputs": [],
   "source": [
    "import os\n",
    "import uuid\n",
    "import cv2\n",
    "import mediapipe as mp\n"
   ]
  },
  {
   "cell_type": "markdown",
   "id": "8c3e9f11",
   "metadata": {},
   "source": [
    "### Set the label you want to collect(make it same as folder name)"
   ]
  },
  {
   "cell_type": "code",
   "execution_count": 4,
   "id": "3482ec30",
   "metadata": {},
   "outputs": [],
   "source": [
    "label = \"rock\"\n"
   ]
  },
  {
   "cell_type": "code",
   "execution_count": null,
   "id": "5e1d190f",
   "metadata": {},
   "outputs": [],
   "source": []
  },
  {
   "cell_type": "markdown",
   "id": "eadd33e6",
   "metadata": {},
   "source": [
    "### Path to save file"
   ]
  },
  {
   "cell_type": "code",
   "execution_count": 5,
   "id": "a1bed71e",
   "metadata": {},
   "outputs": [
    {
     "name": "stdout",
     "output_type": "stream",
     "text": [
      "Images will be saved to: c:\\Users\\amand\\Desktop\\RPS PROJ\\AI_RPS\\rock\n"
     ]
    }
   ],
   "source": [
    "save_dir = os.path.join(os.getcwd(), label)\n",
    "os.makedirs(save_dir, exist_ok=True)\n",
    "\n",
    "print(f\"Images will be saved to: {save_dir}\")"
   ]
  },
  {
   "cell_type": "code",
   "execution_count": null,
   "id": "4ba94231",
   "metadata": {},
   "outputs": [
    {
     "name": "stdout",
     "output_type": "stream",
     "text": [
      "Collecting images for: rock\n",
      "Press 'c' to capture, 'q' to quit.\n",
      "Saved: c:\\Users\\amand\\Desktop\\RPS PROJ\\AI_RPS\\rock\\rock_fc9fca50-28c4-4cca-b56b-832aefcd34e9.jpg (Total: 1)\n",
      "Saved: c:\\Users\\amand\\Desktop\\RPS PROJ\\AI_RPS\\rock\\rock_a6a22477-fae1-4495-9da7-ba0b8df58237.jpg (Total: 2)\n",
      "Saved: c:\\Users\\amand\\Desktop\\RPS PROJ\\AI_RPS\\rock\\rock_2992e6a8-d4a2-4fac-9c66-33fb9642df3b.jpg (Total: 3)\n",
      "Saved: c:\\Users\\amand\\Desktop\\RPS PROJ\\AI_RPS\\rock\\rock_3005dd48-58ae-49c3-929d-a77fbcef88c0.jpg (Total: 4)\n",
      "Saved: c:\\Users\\amand\\Desktop\\RPS PROJ\\AI_RPS\\rock\\rock_5af8f7bf-a275-4553-a50a-c50a7d4efd08.jpg (Total: 5)\n",
      "Saved: c:\\Users\\amand\\Desktop\\RPS PROJ\\AI_RPS\\rock\\rock_330a6001-943f-4faf-805c-99ead1a2060c.jpg (Total: 6)\n",
      "Saved: c:\\Users\\amand\\Desktop\\RPS PROJ\\AI_RPS\\rock\\rock_81995d86-0419-430a-ad65-bb6b44143efe.jpg (Total: 7)\n",
      "Saved: c:\\Users\\amand\\Desktop\\RPS PROJ\\AI_RPS\\rock\\rock_64f2b6de-82d5-419e-8d59-fee50a63ef33.jpg (Total: 8)\n",
      "Saved: c:\\Users\\amand\\Desktop\\RPS PROJ\\AI_RPS\\rock\\rock_db9bd964-1537-4280-8553-9cfad33a1405.jpg (Total: 9)\n",
      "Saved: c:\\Users\\amand\\Desktop\\RPS PROJ\\AI_RPS\\rock\\rock_bd25c7de-cc2a-4cea-a4fa-15acfe5e05c8.jpg (Total: 10)\n",
      "Saved: c:\\Users\\amand\\Desktop\\RPS PROJ\\AI_RPS\\rock\\rock_5dba7e79-ba20-45e5-9e64-93f9d7c22c66.jpg (Total: 11)\n",
      "Saved: c:\\Users\\amand\\Desktop\\RPS PROJ\\AI_RPS\\rock\\rock_ce31ebd7-03c9-4b74-b290-922bf92e2df0.jpg (Total: 12)\n",
      "Saved: c:\\Users\\amand\\Desktop\\RPS PROJ\\AI_RPS\\rock\\rock_c4d04248-b1e1-4a9a-994a-53cdd832c3de.jpg (Total: 13)\n",
      "Saved: c:\\Users\\amand\\Desktop\\RPS PROJ\\AI_RPS\\rock\\rock_40090be8-040a-4338-a311-c89fedd2be69.jpg (Total: 14)\n",
      "Saved: c:\\Users\\amand\\Desktop\\RPS PROJ\\AI_RPS\\rock\\rock_3c92cc4d-018a-4ee3-bc0f-2b9dfd375053.jpg (Total: 15)\n",
      "Saved: c:\\Users\\amand\\Desktop\\RPS PROJ\\AI_RPS\\rock\\rock_a54d13a9-8bdb-439b-8a6e-e3a928c4c933.jpg (Total: 16)\n",
      "Saved: c:\\Users\\amand\\Desktop\\RPS PROJ\\AI_RPS\\rock\\rock_c9ee420c-259e-4164-8990-bd1d6235518e.jpg (Total: 17)\n",
      "Saved: c:\\Users\\amand\\Desktop\\RPS PROJ\\AI_RPS\\rock\\rock_13973679-d8d4-409c-b851-813a42b4d067.jpg (Total: 18)\n",
      "Saved: c:\\Users\\amand\\Desktop\\RPS PROJ\\AI_RPS\\rock\\rock_59e0c3b0-aac3-43b7-afee-18a550cd94e4.jpg (Total: 19)\n",
      "Saved: c:\\Users\\amand\\Desktop\\RPS PROJ\\AI_RPS\\rock\\rock_f986d5ce-db5d-4e83-b314-7626f9c58d2f.jpg (Total: 20)\n",
      "Saved: c:\\Users\\amand\\Desktop\\RPS PROJ\\AI_RPS\\rock\\rock_304f1330-3975-42f9-9254-74c8fc80f6c5.jpg (Total: 21)\n",
      "Saved: c:\\Users\\amand\\Desktop\\RPS PROJ\\AI_RPS\\rock\\rock_64f4a59a-a055-41b5-94fd-ab0a4e9a48d5.jpg (Total: 22)\n",
      "Saved: c:\\Users\\amand\\Desktop\\RPS PROJ\\AI_RPS\\rock\\rock_c9c409c9-fb45-444b-b185-9c4efa25c29f.jpg (Total: 23)\n",
      "Saved: c:\\Users\\amand\\Desktop\\RPS PROJ\\AI_RPS\\rock\\rock_ca8be4f6-90ce-4c65-9e46-dc852e5b95c9.jpg (Total: 24)\n",
      "Saved: c:\\Users\\amand\\Desktop\\RPS PROJ\\AI_RPS\\rock\\rock_35dd7d26-6959-4987-9dea-a0af7235c7a0.jpg (Total: 25)\n",
      "Saved: c:\\Users\\amand\\Desktop\\RPS PROJ\\AI_RPS\\rock\\rock_862000d7-34a8-4459-8742-65cfde986d5a.jpg (Total: 26)\n",
      "Saved: c:\\Users\\amand\\Desktop\\RPS PROJ\\AI_RPS\\rock\\rock_3a03318a-200e-48cd-b7cb-d8d4d957d170.jpg (Total: 27)\n",
      "Saved: c:\\Users\\amand\\Desktop\\RPS PROJ\\AI_RPS\\rock\\rock_97df85b1-8213-4570-aaf4-4c08c8d4f222.jpg (Total: 28)\n",
      "Saved: c:\\Users\\amand\\Desktop\\RPS PROJ\\AI_RPS\\rock\\rock_e893341a-dbe5-42fc-a15d-e6784949549c.jpg (Total: 29)\n",
      "Saved: c:\\Users\\amand\\Desktop\\RPS PROJ\\AI_RPS\\rock\\rock_3eeacced-c230-4e30-b5da-8b56fc4f6f0a.jpg (Total: 30)\n",
      "Saved: c:\\Users\\amand\\Desktop\\RPS PROJ\\AI_RPS\\rock\\rock_529df1f4-bf5e-4c42-bbf2-33283e455816.jpg (Total: 31)\n",
      "Saved: c:\\Users\\amand\\Desktop\\RPS PROJ\\AI_RPS\\rock\\rock_f6d1814d-6c66-48fe-8548-1fd8ad9ac196.jpg (Total: 32)\n",
      "Saved: c:\\Users\\amand\\Desktop\\RPS PROJ\\AI_RPS\\rock\\rock_60836b62-a81a-4094-ba2e-8caf17cec96c.jpg (Total: 33)\n",
      "Saved: c:\\Users\\amand\\Desktop\\RPS PROJ\\AI_RPS\\rock\\rock_cdddbc01-9ffe-413f-b937-0756b29aa784.jpg (Total: 34)\n",
      "Saved: c:\\Users\\amand\\Desktop\\RPS PROJ\\AI_RPS\\rock\\rock_2ac368b9-1d15-4665-8a02-a11082c0baa7.jpg (Total: 35)\n",
      "Saved: c:\\Users\\amand\\Desktop\\RPS PROJ\\AI_RPS\\rock\\rock_d7bb3caf-fe0e-49af-9528-e2a33f15754c.jpg (Total: 36)\n",
      "Saved: c:\\Users\\amand\\Desktop\\RPS PROJ\\AI_RPS\\rock\\rock_19e9e255-6318-4392-bf35-d6ca11ae290a.jpg (Total: 37)\n",
      "Saved: c:\\Users\\amand\\Desktop\\RPS PROJ\\AI_RPS\\rock\\rock_1d546212-e7c6-4bba-9d4d-1a77bdb04bc7.jpg (Total: 38)\n",
      "Saved: c:\\Users\\amand\\Desktop\\RPS PROJ\\AI_RPS\\rock\\rock_f8266ae4-c6e1-4515-a3f0-ab4753c7bbd5.jpg (Total: 39)\n",
      "Saved: c:\\Users\\amand\\Desktop\\RPS PROJ\\AI_RPS\\rock\\rock_1fbdac9a-57ae-4fc6-9496-22d9b4b07498.jpg (Total: 40)\n",
      "Saved: c:\\Users\\amand\\Desktop\\RPS PROJ\\AI_RPS\\rock\\rock_2f30c80b-5f9d-492f-9aaa-24d4aad0063d.jpg (Total: 41)\n",
      "Saved: c:\\Users\\amand\\Desktop\\RPS PROJ\\AI_RPS\\rock\\rock_86e6391b-ff96-4561-8b4f-fb0ee1af0ee8.jpg (Total: 42)\n",
      "Saved: c:\\Users\\amand\\Desktop\\RPS PROJ\\AI_RPS\\rock\\rock_9aa6b054-ab1e-4837-bc29-04ac74e1782b.jpg (Total: 43)\n",
      "Saved: c:\\Users\\amand\\Desktop\\RPS PROJ\\AI_RPS\\rock\\rock_a6dcc13d-de0a-4bab-b1f0-63bf6897d0a7.jpg (Total: 44)\n",
      "Saved: c:\\Users\\amand\\Desktop\\RPS PROJ\\AI_RPS\\rock\\rock_c589dc99-8efa-440c-9a39-34e9ad67a4fc.jpg (Total: 45)\n",
      "Saved: c:\\Users\\amand\\Desktop\\RPS PROJ\\AI_RPS\\rock\\rock_c15d9925-28cd-4aea-8e3d-72b4429cd002.jpg (Total: 46)\n",
      "Saved: c:\\Users\\amand\\Desktop\\RPS PROJ\\AI_RPS\\rock\\rock_cecb4809-e036-4cd7-83cf-e1950c36d3f9.jpg (Total: 47)\n",
      "Saved: c:\\Users\\amand\\Desktop\\RPS PROJ\\AI_RPS\\rock\\rock_18123ccb-bb31-4b38-ab2a-2e4e051ab16d.jpg (Total: 48)\n",
      "Saved: c:\\Users\\amand\\Desktop\\RPS PROJ\\AI_RPS\\rock\\rock_fd459efd-be9d-4ce0-abf7-b6b3f6f58392.jpg (Total: 49)\n",
      "Saved: c:\\Users\\amand\\Desktop\\RPS PROJ\\AI_RPS\\rock\\rock_012d314f-aa82-4932-8844-df6eabec4490.jpg (Total: 50)\n",
      "Saved: c:\\Users\\amand\\Desktop\\RPS PROJ\\AI_RPS\\rock\\rock_367256fe-7b5b-4185-b270-b1cf1d886fd4.jpg (Total: 51)\n",
      "Saved: c:\\Users\\amand\\Desktop\\RPS PROJ\\AI_RPS\\rock\\rock_e44c8faf-29d5-4d81-9247-89081b6f49a2.jpg (Total: 52)\n",
      "Saved: c:\\Users\\amand\\Desktop\\RPS PROJ\\AI_RPS\\rock\\rock_b1ba2a1d-989d-42a6-8e0f-9dc3cbb7ff23.jpg (Total: 53)\n",
      "Saved: c:\\Users\\amand\\Desktop\\RPS PROJ\\AI_RPS\\rock\\rock_5dc9c7d2-fa16-4435-86f7-a5fc19ce12d2.jpg (Total: 54)\n",
      "Saved: c:\\Users\\amand\\Desktop\\RPS PROJ\\AI_RPS\\rock\\rock_ade92536-78ad-4903-bcbc-47918e6df9b2.jpg (Total: 55)\n",
      "Saved: c:\\Users\\amand\\Desktop\\RPS PROJ\\AI_RPS\\rock\\rock_4a5163d0-3d4f-4564-a071-806bd1b007d1.jpg (Total: 56)\n",
      "Saved: c:\\Users\\amand\\Desktop\\RPS PROJ\\AI_RPS\\rock\\rock_bf7e2a2a-bba2-4553-a9d9-409282ef09d1.jpg (Total: 57)\n",
      "Saved: c:\\Users\\amand\\Desktop\\RPS PROJ\\AI_RPS\\rock\\rock_f48518a1-cfce-4d58-8c69-4f0a58e283be.jpg (Total: 58)\n",
      "Saved: c:\\Users\\amand\\Desktop\\RPS PROJ\\AI_RPS\\rock\\rock_cf08934d-f8df-493d-9181-70affe3d10fb.jpg (Total: 59)\n",
      "Saved: c:\\Users\\amand\\Desktop\\RPS PROJ\\AI_RPS\\rock\\rock_acb574fe-47ce-483f-8061-10ee28a6e3bd.jpg (Total: 60)\n"
     ]
    },
    {
     "ename": "KeyboardInterrupt",
     "evalue": "",
     "output_type": "error",
     "traceback": [
      "\u001b[1;31m---------------------------------------------------------------------------\u001b[0m",
      "\u001b[1;31mKeyboardInterrupt\u001b[0m                         Traceback (most recent call last)",
      "Cell \u001b[1;32mIn[6], line 18\u001b[0m\n\u001b[0;32m     16\u001b[0m frame \u001b[38;5;241m=\u001b[39m cv2\u001b[38;5;241m.\u001b[39mflip(frame, \u001b[38;5;241m1\u001b[39m)\n\u001b[0;32m     17\u001b[0m rgb \u001b[38;5;241m=\u001b[39m cv2\u001b[38;5;241m.\u001b[39mcvtColor(frame, cv2\u001b[38;5;241m.\u001b[39mCOLOR_BGR2RGB)\n\u001b[1;32m---> 18\u001b[0m result \u001b[38;5;241m=\u001b[39m \u001b[43mhands\u001b[49m\u001b[38;5;241;43m.\u001b[39;49m\u001b[43mprocess\u001b[49m\u001b[43m(\u001b[49m\u001b[43mrgb\u001b[49m\u001b[43m)\u001b[49m\n\u001b[0;32m     20\u001b[0m hand_crop \u001b[38;5;241m=\u001b[39m \u001b[38;5;28;01mNone\u001b[39;00m\n\u001b[0;32m     21\u001b[0m \u001b[38;5;28;01mif\u001b[39;00m result\u001b[38;5;241m.\u001b[39mmulti_hand_landmarks:\n",
      "File \u001b[1;32mc:\\Users\\amand\\Desktop\\RPS PROJ\\venv\\lib\\site-packages\\mediapipe\\python\\solutions\\hands.py:153\u001b[0m, in \u001b[0;36mHands.process\u001b[1;34m(self, image)\u001b[0m\n\u001b[0;32m    132\u001b[0m \u001b[38;5;28;01mdef\u001b[39;00m\u001b[38;5;250m \u001b[39m\u001b[38;5;21mprocess\u001b[39m(\u001b[38;5;28mself\u001b[39m, image: np\u001b[38;5;241m.\u001b[39mndarray) \u001b[38;5;241m-\u001b[39m\u001b[38;5;241m>\u001b[39m NamedTuple:\n\u001b[0;32m    133\u001b[0m \u001b[38;5;250m  \u001b[39m\u001b[38;5;124;03m\"\"\"Processes an RGB image and returns the hand landmarks and handedness of each detected hand.\u001b[39;00m\n\u001b[0;32m    134\u001b[0m \n\u001b[0;32m    135\u001b[0m \u001b[38;5;124;03m  Args:\u001b[39;00m\n\u001b[1;32m   (...)\u001b[0m\n\u001b[0;32m    150\u001b[0m \u001b[38;5;124;03m         right hand) of the detected hand.\u001b[39;00m\n\u001b[0;32m    151\u001b[0m \u001b[38;5;124;03m  \"\"\"\u001b[39;00m\n\u001b[1;32m--> 153\u001b[0m   \u001b[38;5;28;01mreturn\u001b[39;00m \u001b[38;5;28;43msuper\u001b[39;49m\u001b[43m(\u001b[49m\u001b[43m)\u001b[49m\u001b[38;5;241;43m.\u001b[39;49m\u001b[43mprocess\u001b[49m\u001b[43m(\u001b[49m\u001b[43minput_data\u001b[49m\u001b[38;5;241;43m=\u001b[39;49m\u001b[43m{\u001b[49m\u001b[38;5;124;43m'\u001b[39;49m\u001b[38;5;124;43mimage\u001b[39;49m\u001b[38;5;124;43m'\u001b[39;49m\u001b[43m:\u001b[49m\u001b[43m \u001b[49m\u001b[43mimage\u001b[49m\u001b[43m}\u001b[49m\u001b[43m)\u001b[49m\n",
      "File \u001b[1;32mc:\\Users\\amand\\Desktop\\RPS PROJ\\venv\\lib\\site-packages\\mediapipe\\python\\solution_base.py:340\u001b[0m, in \u001b[0;36mSolutionBase.process\u001b[1;34m(self, input_data)\u001b[0m\n\u001b[0;32m    334\u001b[0m   \u001b[38;5;28;01melse\u001b[39;00m:\n\u001b[0;32m    335\u001b[0m     \u001b[38;5;28mself\u001b[39m\u001b[38;5;241m.\u001b[39m_graph\u001b[38;5;241m.\u001b[39madd_packet_to_input_stream(\n\u001b[0;32m    336\u001b[0m         stream\u001b[38;5;241m=\u001b[39mstream_name,\n\u001b[0;32m    337\u001b[0m         packet\u001b[38;5;241m=\u001b[39m\u001b[38;5;28mself\u001b[39m\u001b[38;5;241m.\u001b[39m_make_packet(input_stream_type,\n\u001b[0;32m    338\u001b[0m                                  data)\u001b[38;5;241m.\u001b[39mat(\u001b[38;5;28mself\u001b[39m\u001b[38;5;241m.\u001b[39m_simulated_timestamp))\n\u001b[1;32m--> 340\u001b[0m \u001b[38;5;28;43mself\u001b[39;49m\u001b[38;5;241;43m.\u001b[39;49m\u001b[43m_graph\u001b[49m\u001b[38;5;241;43m.\u001b[39;49m\u001b[43mwait_until_idle\u001b[49m\u001b[43m(\u001b[49m\u001b[43m)\u001b[49m\n\u001b[0;32m    341\u001b[0m \u001b[38;5;66;03m# Create a NamedTuple object where the field names are mapping to the graph\u001b[39;00m\n\u001b[0;32m    342\u001b[0m \u001b[38;5;66;03m# output stream names.\u001b[39;00m\n\u001b[0;32m    343\u001b[0m \u001b[38;5;28;01mif\u001b[39;00m \u001b[38;5;28mself\u001b[39m\u001b[38;5;241m.\u001b[39m_output_stream_type_info \u001b[38;5;129;01mis\u001b[39;00m \u001b[38;5;28;01mNone\u001b[39;00m:\n",
      "\u001b[1;31mKeyboardInterrupt\u001b[0m: "
     ]
    }
   ],
   "source": [
    "mp_hands = mp.solutions.hands\n",
    "mp_drawing = mp.solutions.drawing_utils\n",
    "hands = mp_hands.Hands(static_image_mode=False, max_num_hands=1)\n",
    "\n",
    "cap = cv2.VideoCapture(0)\n",
    "image_count = 0\n",
    "\n",
    "print(f\"Collecting images for: {label}\")\n",
    "print(\"Press 'c' to capture, 'q' to quit.\")\n",
    "\n",
    "while True:\n",
    "    ret, frame = cap.read()\n",
    "    if not ret:\n",
    "        break\n",
    "\n",
    "    frame = cv2.flip(frame, 1)\n",
    "    rgb = cv2.cvtColor(frame, cv2.COLOR_BGR2RGB)\n",
    "    result = hands.process(rgb)\n",
    "\n",
    "    hand_crop = None\n",
    "    if result.multi_hand_landmarks:\n",
    "        h, w, _ = frame.shape\n",
    "        for hand_landmarks in result.multi_hand_landmarks:\n",
    "            x_coords = [lm.x for lm in hand_landmarks.landmark]\n",
    "            y_coords = [lm.y for lm in hand_landmarks.landmark]\n",
    "            x_min = int(min(x_coords) * w) - 20\n",
    "            x_max = int(max(x_coords) * w) + 20\n",
    "            y_min = int(min(y_coords) * h) - 20\n",
    "            y_max = int(max(y_coords) * h) + 20\n",
    "\n",
    "            x_min = max(x_min, 0)\n",
    "            y_min = max(y_min, 0)\n",
    "            x_max = min(x_max, w)\n",
    "            y_max = min(y_max, h)\n",
    "\n",
    "            cv2.rectangle(frame, (x_min, y_min), (x_max, y_max), (0, 255, 0), 2)\n",
    "            hand_crop = frame[y_min:y_max, x_min:x_max]\n",
    "\n",
    "    cv2.putText(frame, f\"Saved: {image_count}\", (10, 30),\n",
    "                cv2.FONT_HERSHEY_SIMPLEX, 1, (0, 255, 0), 2)\n",
    "\n",
    "    cv2.imshow(\"RPS Hand Capture\", frame)\n",
    "    key = cv2.waitKey(1)\n",
    "\n",
    "    if key == ord('c'):\n",
    "        if label == \"none\":\n",
    "            # Save the full frame for 'none' class\n",
    "            filename = f\"{label}_{uuid.uuid4()}.jpg\"\n",
    "            filepath = os.path.join(save_dir, filename)\n",
    "            cv2.imwrite(filepath, frame)\n",
    "            image_count += 1\n",
    "            print(f\"Saved (NONE): {filepath} (Total: {image_count})\")\n",
    "\n",
    "        elif hand_crop is not None:\n",
    "            # Save the cropped hand for gesture classes\n",
    "            filename = f\"{label}_{uuid.uuid4()}.jpg\"\n",
    "            filepath = os.path.join(save_dir, filename)\n",
    "            cv2.imwrite(filepath, hand_crop)\n",
    "            image_count += 1\n",
    "            print(f\"Saved: {filepath} (Total: {image_count})\")\n",
    "\n",
    "\n",
    "    elif key == ord('q'):\n",
    "        break\n",
    "\n",
    "cap.release()\n",
    "cv2.destroyAllWindows()\n",
    "hands.close()\n"
   ]
  },
  {
   "cell_type": "code",
   "execution_count": null,
   "id": "228eb5cb",
   "metadata": {},
   "outputs": [],
   "source": []
  }
 ],
 "metadata": {
  "kernelspec": {
   "display_name": "venv",
   "language": "python",
   "name": "python3"
  },
  "language_info": {
   "codemirror_mode": {
    "name": "ipython",
    "version": 3
   },
   "file_extension": ".py",
   "mimetype": "text/x-python",
   "name": "python",
   "nbconvert_exporter": "python",
   "pygments_lexer": "ipython3",
   "version": "3.10.0"
  }
 },
 "nbformat": 4,
 "nbformat_minor": 5
}
