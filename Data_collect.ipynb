{
 "cells": [
  {
   "cell_type": "code",
   "execution_count": 5,
   "id": "22018a54",
   "metadata": {},
   "outputs": [],
   "source": [
    "import os\n",
    "import uuid\n",
    "import cv2\n",
    "import mediapipe as mp\n"
   ]
  },
  {
   "cell_type": "markdown",
   "id": "8c3e9f11",
   "metadata": {},
   "source": [
    "### Set the label you want to collect(make it same as folder name)"
   ]
  },
  {
   "cell_type": "code",
   "execution_count": 6,
   "id": "3482ec30",
   "metadata": {},
   "outputs": [],
   "source": [
    "label = \"rock\"\n"
   ]
  },
  {
   "cell_type": "markdown",
   "id": "eadd33e6",
   "metadata": {},
   "source": [
    "### Path to save file"
   ]
  },
  {
   "cell_type": "code",
   "execution_count": 7,
   "id": "a1bed71e",
   "metadata": {},
   "outputs": [
    {
     "name": "stdout",
     "output_type": "stream",
     "text": [
      "Images will be saved to: c:\\Users\\Vihas\\Documents\\Pytesting\\AI_RPS\\rock\n"
     ]
    }
   ],
   "source": [
    "save_dir = os.path.join(os.getcwd(), label)\n",
    "os.makedirs(save_dir, exist_ok=True)\n",
    "\n",
    "print(f\"Images will be saved to: {save_dir}\")"
   ]
  },
  {
   "cell_type": "code",
   "execution_count": null,
   "id": "4ba94231",
   "metadata": {},
   "outputs": [
    {
     "name": "stdout",
     "output_type": "stream",
     "text": [
      "Collecting images for: rock\n",
      "Press 'c' to capture, 'q' to quit.\n"
     ]
    }
   ],
   "source": [
    "mp_hands = mp.solutions.hands\n",
    "mp_drawing = mp.solutions.drawing_utils\n",
    "hands = mp_hands.Hands(static_image_mode=False, max_num_hands=1)\n",
    "\n",
    "cap = cv2.VideoCapture(0)\n",
    "image_count = 0\n",
    "\n",
    "print(f\"Collecting images for: {label}\")\n",
    "print(\"Press 'c' to capture, 'q' to quit.\")\n",
    "\n",
    "while True:\n",
    "    ret, frame = cap.read()\n",
    "    if not ret:\n",
    "        break\n",
    "\n",
    "    frame = cv2.flip(frame, 1)\n",
    "    rgb = cv2.cvtColor(frame, cv2.COLOR_BGR2RGB)\n",
    "    result = hands.process(rgb)\n",
    "\n",
    "    hand_crop = None\n",
    "    if result.multi_hand_landmarks:\n",
    "        h, w, _ = frame.shape\n",
    "        for hand_landmarks in result.multi_hand_landmarks:\n",
    "            x_coords = [lm.x for lm in hand_landmarks.landmark]\n",
    "            y_coords = [lm.y for lm in hand_landmarks.landmark]\n",
    "            x_min = int(min(x_coords) * w) - 20\n",
    "            x_max = int(max(x_coords) * w) + 20\n",
    "            y_min = int(min(y_coords) * h) - 20\n",
    "            y_max = int(max(y_coords) * h) + 20\n",
    "\n",
    "            x_min = max(x_min, 0)\n",
    "            y_min = max(y_min, 0)\n",
    "            x_max = min(x_max, w)\n",
    "            y_max = min(y_max, h)\n",
    "\n",
    "            cv2.rectangle(frame, (x_min, y_min), (x_max, y_max), (0, 255, 0), 2)\n",
    "            hand_crop = frame[y_min:y_max, x_min:x_max]\n",
    "\n",
    "    cv2.putText(frame, f\"Saved: {image_count}\", (10, 30),\n",
    "                cv2.FONT_HERSHEY_SIMPLEX, 1, (0, 255, 0), 2)\n",
    "\n",
    "    cv2.imshow(\"RPS Hand Capture\", frame)\n",
    "    key = cv2.waitKey(1)\n",
    "\n",
    "    if key == ord('c') and hand_crop is not None:\n",
    "        filename = f\"{label}_{uuid.uuid4()}.jpg\"\n",
    "        filepath = os.path.join(save_dir, filename)\n",
    "        cv2.imwrite(filepath, hand_crop)\n",
    "        image_count += 1\n",
    "        print(f\"Saved: {filepath} (Total: {image_count})\")\n",
    "\n",
    "    elif key == ord('q'):\n",
    "        break\n",
    "\n",
    "cap.release()\n",
    "cv2.destroyAllWindows()\n",
    "hands.close()\n"
   ]
  },
  {
   "cell_type": "code",
   "execution_count": null,
   "id": "228eb5cb",
   "metadata": {},
   "outputs": [],
   "source": []
  }
 ],
 "metadata": {
  "kernelspec": {
   "display_name": "cuda",
   "language": "python",
   "name": "python3"
  },
  "language_info": {
   "codemirror_mode": {
    "name": "ipython",
    "version": 3
   },
   "file_extension": ".py",
   "mimetype": "text/x-python",
   "name": "python",
   "nbconvert_exporter": "python",
   "pygments_lexer": "ipython3",
   "version": "3.10.16"
  }
 },
 "nbformat": 4,
 "nbformat_minor": 5
}
